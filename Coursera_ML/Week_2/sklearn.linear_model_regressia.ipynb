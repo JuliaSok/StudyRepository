{
 "cells": [
  {
   "cell_type": "markdown",
   "metadata": {},
   "source": [
    "# Sklearn"
   ]
  },
  {
   "cell_type": "markdown",
   "metadata": {},
   "source": [
    "## sklearn.linear_model"
   ]
  },
  {
   "cell_type": "markdown",
   "metadata": {},
   "source": [
    "Теперь мы будем строить модели регрессии. Для начала импортируем необходимые нам модули."
   ]
  },
  {
   "cell_type": "code",
   "execution_count": 1,
   "metadata": {},
   "outputs": [],
   "source": [
    "from matplotlib.colors import ListedColormap\n",
    "from sklearn import datasets, linear_model, metrics\n",
    "from sklearn.model_selection import train_test_split, cross_val_score\n",
    "\n",
    "import numpy as np"
   ]
  },
  {
   "cell_type": "code",
   "execution_count": 2,
   "metadata": {},
   "outputs": [],
   "source": [
    "import matplotlib.pyplot as plt\n",
    "%matplotlib inline"
   ]
  },
  {
   "cell_type": "markdown",
   "metadata": {},
   "source": [
    "### Линейная регрессия"
   ]
  },
  {
   "cell_type": "markdown",
   "metadata": {},
   "source": [
    "#### Генерация данных"
   ]
  },
  {
   "cell_type": "markdown",
   "metadata": {},
   "source": [
    "Теперь сгенерируем данные для обучения. Так как мы решаем задачу регрессии, нам очень подойдет функция **make_regression**. Она позволяет построить соответствующий *dataset*. В данном случае мы будем строить *dataset* с двумя признаками. Пускай один из них будет информативным, другой будет избыточным. Также добавим некоторый шум. Еще один параметр, который мы укажем, это параметр *coef = True*. Он нужен для того, чтобы мы могли с вами посмотреть на уравнение функции, которую мы приближаем. То есть мы попросим метод вернуть нам не только данные и метки, но и также уравнение. "
   ]
  },
  {
   "cell_type": "code",
   "execution_count": 3,
   "metadata": {},
   "outputs": [],
   "source": [
    "data, target, coef = datasets.make_regression(n_features = 2, \n",
    "                    n_informative = 1, n_targets = 1, noise = 5., \n",
    "                    coef = True, random_state = 2)"
   ]
  },
  {
   "cell_type": "markdown",
   "metadata": {},
   "source": [
    "Теперь давайте попробуем отрисовать наш *dataset*.\n",
    "\n",
    "Отобразим объекты в плоскости «признаки–метки», таким образом мы сможем понять, есть ли какая-то зависимость между значением признаков и значением целевой метки. Сначала мы построим объекты в плоскости «нулевой признак–целевая метка», отрисуем их красным цветом, а потом мы построим те же самые объекты в плоскости «первый признак–метка» и отрисуем их синим цветом. Так как пространство значения признаков у нас совпадает, мы можем сделать это на одном графике. "
   ]
  },
  {
   "cell_type": "code",
   "execution_count": 4,
   "metadata": {},
   "outputs": [],
   "source": [
    "X0 = data[:, 0]\n",
    "X1 = data[:, 1]"
   ]
  },
  {
   "cell_type": "code",
   "execution_count": 5,
   "metadata": {},
   "outputs": [
    {
     "data": {
      "text/plain": [
       "<matplotlib.collections.PathCollection at 0x1c8dcc56088>"
      ]
     },
     "execution_count": 5,
     "metadata": {},
     "output_type": "execute_result"
    },
    {
     "data": {
      "image/png": "[encoded data removed]",
      "text/plain": [
       "<Figure size 576x576 with 1 Axes>"
      ]
     },
     "metadata": {
      "needs_background": "light"
     },
     "output_type": "display_data"
    }
   ],
   "source": [
    "plt.figure(figsize=(8, 8))\n",
    "plt.scatter(X0, target, color = 'r')\n",
    "plt.scatter(X1, target, color = 'b')"
   ]
  },
  {
   "cell_type": "markdown",
   "metadata": {},
   "source": [
    "По этому графику легко проанализировать и понять, какой же из двух признаков является информативным. Нулевой признак отображен точками красного цвета. Мы видим, что в основном с увеличением значения признака у нас растет *target*. Таким образом, понятно, что зависимость между этим признаком и целевой переменной есть. С другой стороны, давайте посмотрим на синие точки (это второй признак). Мы видим, что, в общем-то, изменение этого признака, например его рост, не всегда означает рост целевой функции. У нас в этом случае есть некоторые случайные изменения, поэтому понятно, что этот признак не настолько информативен.\n",
    "\n",
    "Вот теперь давайте построим модель и посмотрим на коэффициенты между этими признаками. Понятно, что мы ожидаем больший коэффициент (по абсолютной величине) перед информативным признаком и меньший коэффициент по абсолютной величине перед избыточным признаком."
   ]
  },
  {
   "cell_type": "code",
   "execution_count": 6,
   "metadata": {},
   "outputs": [],
   "source": [
    "# Для того чтобы построить модель и оценить ее качество, \n",
    "# разобьем данные на обучение и тест.\n",
    "train_data, test_data, train_labels, test_labels = train_test_split(data, \n",
    "                                                     target, test_size = 0.3)"
   ]
  },
  {
   "cell_type": "markdown",
   "metadata": {},
   "source": [
    "#### LinearRegression"
   ]
  },
  {
   "cell_type": "markdown",
   "metadata": {},
   "source": [
    "Воспользуемся классификатором **linear_regression**, обучим его на *train_data* и *train_labels* и получим наши *predictions* с помощью метода **predict**. "
   ]
  },
  {
   "cell_type": "code",
   "execution_count": 7,
   "metadata": {},
   "outputs": [],
   "source": [
    "linear_regressor = linear_model.LinearRegression()\n",
    "linear_regressor.fit(train_data, train_labels)\n",
    "predictions = linear_regressor.predict(test_data)"
   ]
  },
  {
   "cell_type": "code",
   "execution_count": 8,
   "metadata": {},
   "outputs": [
    {
     "name": "stdout",
     "output_type": "stream",
     "text": [
      "[-13.99339669 -11.18242389 -36.69728864  17.64282734 -70.11132234\n",
      "  78.24817537  13.31981235 -40.84204295 -16.30914909 -16.79027112\n",
      "  22.2276832  -22.33224966  34.35183007 -37.31870104  27.83791274\n",
      " -36.44717565 101.14760598  13.02656201 -84.32102748 -26.87743177\n",
      " -18.57607726  38.36241814 -18.86438755  45.05465366 -22.64686884\n",
      " -16.65927231 -80.80239408  41.95683853 -48.28700118 -91.477377  ]\n"
     ]
    }
   ],
   "source": [
    "# выведем исходные значения функции\n",
    "print(test_labels)"
   ]
  },
  {
   "cell_type": "code",
   "execution_count": 9,
   "metadata": {},
   "outputs": [
    {
     "name": "stdout",
     "output_type": "stream",
     "text": [
      "[-15.25660377 -13.38170845 -27.75780849  21.2201442  -66.44976245\n",
      "  65.32136812  14.01214581 -46.45957254 -12.36063017 -15.09570763\n",
      "  17.96185725 -29.2232291   38.40063486 -35.3601797   22.63678363\n",
      " -41.42453986  95.64507832  18.23708453 -81.34252421 -28.39316243\n",
      " -25.25818443  40.66951608 -19.1383703   41.65380288 -17.8278491\n",
      " -15.02019329 -78.39083033  42.8668534  -56.22225586 -93.37224395]\n"
     ]
    }
   ],
   "source": [
    "# выведем наше приближене функции на тестовых объектах\n",
    "print(predictions)"
   ]
  },
  {
   "cell_type": "markdown",
   "metadata": {},
   "source": [
    "Визуально довольно сложно оценить, насколько у нас хорошо получилось, лучше для этого использовать некоторую метрику. Будем использовать среднее отклонение нашего приближения от исходного значения функции. "
   ]
  },
  {
   "cell_type": "code",
   "execution_count": 10,
   "metadata": {},
   "outputs": [
    {
     "data": {
      "text/plain": [
       "3.978144927655784"
      ]
     },
     "execution_count": 10,
     "metadata": {},
     "output_type": "execute_result"
    }
   ],
   "source": [
    "metrics.mean_absolute_error(test_labels, predictions)"
   ]
  },
  {
   "cell_type": "markdown",
   "metadata": {},
   "source": [
    "Видим, что в среднем мы ошибаемся на 4. Давайте сделаем оценку чуть более точной и для этого воспользуемся функцией **cross_val_score**. Передадим в наш регрессор данные, целевую переменную. Скажем, что будем пользоваться метрикой *mean_absolute_error* (та же самая метрика, которой мы только что воспользовались): создадим scorer с помощью функции **make_scorer** и скажем, что для нашей метрики *greater_is_better=True*, то есть значение, когда наша метрика растет, это лучше. \n",
    "\n",
    "В данном случае в качества scoring мы передаем метрику, которая не растет, когда модель становится лучше, а которая уменьшается, когда модель становится лучше. А так как при подборе параметров часто используется максимизация нашей метрики, то нам просто удобно иногда умножить нашу метрику на (−1) и дальше ее точно так же максимизировать. А так как функция cross_val_score понимает, что функция mean_absolute_error растет, когда модель ухудшается, то нам действительно просто умножить эту функцию на (−1). В данном случае мы с вами подбор параметров не делаем, мы ничего не оптимизируем, поэтому, конечно, нам это неудобно. Чтобы от такого избавиться, мы можем создать свой собственный scorer.\n",
    "\n",
    "Будем делать кросс-валидацию k-fold на 10 фолдов. Сразу же после этого выпишем среднее и отклонение по нашей метрике. "
   ]
  },
  {
   "cell_type": "code",
   "execution_count": 15,
   "metadata": {},
   "outputs": [],
   "source": [
    "scorer = metrics.make_scorer(metrics.mean_absolute_error, \n",
    "                             greater_is_better = True)"
   ]
  },
  {
   "cell_type": "code",
   "execution_count": 16,
   "metadata": {},
   "outputs": [
    {
     "name": "stdout",
     "output_type": "stream",
     "text": [
      "mean: 4.070071498779697, std: 1.0737104492890193\n"
     ]
    }
   ],
   "source": [
    "linear_scoring = cross_val_score(linear_regressor, data, target, \n",
    "                                 scoring=scorer, cv = 10)\n",
    "print('mean: {}, std: {}'.format(linear_scoring.mean(), linear_scoring.std()))"
   ]
  },
  {
   "cell_type": "markdown",
   "metadata": {},
   "source": [
    "Мы видим, что в среднем наша ошибка равна 4 с отклонением 1.\n",
    "\n",
    "Посмотрим на коэффициенты нашей исходной функции. Мы их получили в самом начале, когда генерировали данные. Выведем эти коэффициенты. "
   ]
  },
  {
   "cell_type": "code",
   "execution_count": 22,
   "metadata": {},
   "outputs": [
    {
     "data": {
      "text/plain": [
       "array([38.07925837,  0.        ])"
      ]
     },
     "execution_count": 22,
     "metadata": {},
     "output_type": "execute_result"
    }
   ],
   "source": [
    "coef"
   ]
  },
  {
   "cell_type": "markdown",
   "metadata": {},
   "source": [
    "Видим, что коэффициент перед первым признаком равен 38 (это информативный признак) и перед вторым признаком признаком равен 0 (это избыточный признак). Теперь давайте посмотрим, какие же коэффициенты подобрала наша модель. "
   ]
  },
  {
   "cell_type": "code",
   "execution_count": 23,
   "metadata": {},
   "outputs": [
    {
     "data": {
      "text/plain": [
       "array([38.11214287,  0.28946295])"
      ]
     },
     "execution_count": 23,
     "metadata": {},
     "output_type": "execute_result"
    }
   ],
   "source": [
    "linear_regressor.coef_"
   ]
  },
  {
   "cell_type": "markdown",
   "metadata": {},
   "source": [
    "Ну да, видим, что ответ довольно близок к исходному. Давайте запишем это в виде уравнения, чтобы было более наглядно. "
   ]
  },
  {
   "cell_type": "code",
   "execution_count": 24,
   "metadata": {},
   "outputs": [
    {
     "data": {
      "text/plain": [
       "-0.5259918994241313"
      ]
     },
     "execution_count": 24,
     "metadata": {},
     "output_type": "execute_result"
    }
   ],
   "source": [
    "# в лекции не указано, что в уравнении обученной модели\n",
    "# также участвует свободный член\n",
    "linear_regressor.intercept_"
   ]
  },
  {
   "cell_type": "code",
   "execution_count": 26,
   "metadata": {},
   "outputs": [
    {
     "name": "stdout",
     "output_type": "stream",
     "text": [
      "y = 38.08*x1 + 0.00*x2\n"
     ]
    }
   ],
   "source": [
    "print(\"y = {:.2f}*x1 + {:.2f}*x2\".format(coef[0], coef[1]))"
   ]
  },
  {
   "cell_type": "code",
   "execution_count": 27,
   "metadata": {},
   "outputs": [
    {
     "name": "stdout",
     "output_type": "stream",
     "text": [
      "y = 38.11*x1 + 0.29*x2 + -0.53\n"
     ]
    }
   ],
   "source": [
    "print(\"y = {:.2f}*x1 + {:.2f}*x2 + {:.2f}\".format(linear_regressor.coef_[0], \n",
    "                                                  linear_regressor.coef_[1], \n",
    "                                                  linear_regressor.intercept_))"
   ]
  },
  {
   "cell_type": "markdown",
   "metadata": {},
   "source": [
    "Ну вот уравнение нашей исходной функции (y — это, собственно, и есть target) и уравнение той функции, которую мы с вами обучили, которую мы с вами построили. Ну мы видим, что мы достаточно близки."
   ]
  },
  {
   "cell_type": "markdown",
   "metadata": {},
   "source": [
    "#### Lasso"
   ]
  },
  {
   "cell_type": "markdown",
   "metadata": {},
   "source": [
    "Теперь давайте попробуем решить ту же самую задачу с помощью другого метода регрессии. Мы рассмотрим лассо-регрессию — регрессию с использованием регуляризации **lasso** или регуляризации **L1**. Давайте также построим модель, обучим ее на обучающих данных и и построим наше приближение. Делаем это с помощью функций *fit* и *predict* так же, как и раньше."
   ]
  },
  {
   "cell_type": "code",
   "execution_count": 17,
   "metadata": {},
   "outputs": [],
   "source": [
    "lasso_regressor = linear_model.Lasso(random_state = 3)\n",
    "lasso_regressor.fit(train_data, train_labels)\n",
    "lasso_predictions = lasso_regressor.predict(test_data)"
   ]
  },
  {
   "cell_type": "markdown",
   "metadata": {},
   "source": [
    "Сразу же оценим качество модели по кросс-валидации. Будем использовать тот же самый *scorer*, чтобы получить неотрицательное значение метрики. "
   ]
  },
  {
   "cell_type": "code",
   "execution_count": 18,
   "metadata": {},
   "outputs": [
    {
     "name": "stdout",
     "output_type": "stream",
     "text": [
      "mean: 4.154478246666397, std: 1.0170354384993354\n"
     ]
    }
   ],
   "source": [
    "lasso_scoring = cross_val_score(lasso_regressor, data, target, \n",
    "                                scoring = scorer, cv = 10)\n",
    "print('mean: {}, std: {}'.format(lasso_scoring.mean(), lasso_scoring.std()))"
   ]
  },
  {
   "cell_type": "markdown",
   "metadata": {},
   "source": [
    "Видим, что качество стало немножечко хуже. Ну, понятно, что это не значимо, но тем не менее средняя ошибка немножечко больше. Теперь давайте выведем снова исходное уравнение и выведем уравнение, которое мы получили с помощью лассо-регрессии. "
   ]
  },
  {
   "cell_type": "code",
   "execution_count": 32,
   "metadata": {},
   "outputs": [
    {
     "name": "stdout",
     "output_type": "stream",
     "text": [
      "[36.9719441  0.       ]\n"
     ]
    }
   ],
   "source": [
    "print(lasso_regressor.coef_)"
   ]
  },
  {
   "cell_type": "code",
   "execution_count": 33,
   "metadata": {},
   "outputs": [
    {
     "name": "stdout",
     "output_type": "stream",
     "text": [
      "y = 38.08*x1 + 0.00*x2\n"
     ]
    }
   ],
   "source": [
    "print(\"y = {:.2f}*x1 + {:.2f}*x2\".format(coef[0], coef[1]))"
   ]
  },
  {
   "cell_type": "code",
   "execution_count": 36,
   "metadata": {},
   "outputs": [
    {
     "name": "stdout",
     "output_type": "stream",
     "text": [
      "y = 36.97*x1 + 0.00*x2\n"
     ]
    }
   ],
   "source": [
    "print(\"y = {:.2f}*x1 + {:.2f}*x2\".format(lasso_regressor.coef_[0], \n",
    "                                         lasso_regressor.coef_[1]))"
   ]
  },
  {
   "cell_type": "markdown",
   "metadata": {},
   "source": [
    "Посмотрите. Отличие в том, что в данном случае перед неинформативным признаком мы получили 0. Здесь мы видим результат применения L1-регуляризации. На этом модельном примере очень хорошо видны особенности работы лассо-регуляризации. Мы видим, что у нас как будто бы произошел отбор признаков. Перед избыточным признаком мы получили вес 0. Таким образом, теперь вы знаете, что если в вашей задаче много избыточных признаков и вы хотите заняться отбором признаков, то есть вы хотите получить перед ними не просто маленькие веса, а действительно получить нули и отфильтровать такие признаки, то лассо-регуляризация очень хорошо подходит для этой задачи. "
   ]
  },
  {
   "cell_type": "code",
   "execution_count": null,
   "metadata": {},
   "outputs": [],
   "source": []
  }
 ],
 "metadata": {
  "kernelspec": {
   "display_name": "Python 3",
   "language": "python",
   "name": "python3"
  },
  "language_info": {
   "codemirror_mode": {
    "name": "ipython",
    "version": 3
   },
   "file_extension": ".py",
   "mimetype": "text/x-python",
   "name": "python",
   "nbconvert_exporter": "python",
   "pygments_lexer": "ipython3",
   "version": "3.7.4"
  }
 },
 "nbformat": 4,
 "nbformat_minor": 1
}
