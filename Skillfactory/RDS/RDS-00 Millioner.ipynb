{
 "cells": [
  {
   "cell_type": "markdown",
   "metadata": {},
   "source": [
    "### Проект 1. Кто хочет стать миллионером?  \n"
   ]
  },
  {
   "cell_type": "code",
   "execution_count": 1,
   "metadata": {
    "_cell_guid": "b1076dfc-b9ad-4769-8c92-a6c4dae69d19",
    "_uuid": "8f2839f25d086af736a60e9eeb907d3b93b6e0e5"
   },
   "outputs": [],
   "source": [
    "import numpy as np\n",
    "import pandas as pd\n",
    "import seaborn as sns\n",
    "import matplotlib.pyplot as plt\n",
    "import os\n",
    "from collections import Counter"
   ]
  },
  {
   "cell_type": "code",
   "execution_count": 2,
   "metadata": {},
   "outputs": [
    {
     "data": {
      "text/html": [
       "<div>\n",
       "<style scoped>\n",
       "    .dataframe tbody tr th:only-of-type {\n",
       "        vertical-align: middle;\n",
       "    }\n",
       "\n",
       "    .dataframe tbody tr th {\n",
       "        vertical-align: top;\n",
       "    }\n",
       "\n",
       "    .dataframe thead th {\n",
       "        text-align: right;\n",
       "    }\n",
       "</style>\n",
       "<table border=\"1\" class=\"dataframe\">\n",
       "  <thead>\n",
       "    <tr style=\"text-align: right;\">\n",
       "      <th></th>\n",
       "      <th>imdb_id</th>\n",
       "      <th>popularity</th>\n",
       "      <th>budget</th>\n",
       "      <th>revenue</th>\n",
       "      <th>original_title</th>\n",
       "      <th>cast</th>\n",
       "      <th>director</th>\n",
       "      <th>tagline</th>\n",
       "      <th>overview</th>\n",
       "      <th>runtime</th>\n",
       "      <th>genres</th>\n",
       "      <th>production_companies</th>\n",
       "      <th>release_date</th>\n",
       "      <th>vote_count</th>\n",
       "      <th>vote_average</th>\n",
       "      <th>release_year</th>\n",
       "    </tr>\n",
       "  </thead>\n",
       "  <tbody>\n",
       "    <tr>\n",
       "      <td>0</td>\n",
       "      <td>tt0369610</td>\n",
       "      <td>32.985763</td>\n",
       "      <td>150000000</td>\n",
       "      <td>1513528810</td>\n",
       "      <td>Jurassic World</td>\n",
       "      <td>Chris Pratt|Bryce Dallas Howard|Irrfan Khan|Vi...</td>\n",
       "      <td>Colin Trevorrow</td>\n",
       "      <td>The park is open.</td>\n",
       "      <td>Twenty-two years after the events of Jurassic ...</td>\n",
       "      <td>124</td>\n",
       "      <td>Action|Adventure|Science Fiction|Thriller</td>\n",
       "      <td>Universal Studios|Amblin Entertainment|Legenda...</td>\n",
       "      <td>6/9/2015</td>\n",
       "      <td>5562</td>\n",
       "      <td>6.5</td>\n",
       "      <td>2015</td>\n",
       "    </tr>\n",
       "    <tr>\n",
       "      <td>1</td>\n",
       "      <td>tt1392190</td>\n",
       "      <td>28.419936</td>\n",
       "      <td>150000000</td>\n",
       "      <td>378436354</td>\n",
       "      <td>Mad Max: Fury Road</td>\n",
       "      <td>Tom Hardy|Charlize Theron|Hugh Keays-Byrne|Nic...</td>\n",
       "      <td>George Miller</td>\n",
       "      <td>What a Lovely Day.</td>\n",
       "      <td>An apocalyptic story set in the furthest reach...</td>\n",
       "      <td>120</td>\n",
       "      <td>Action|Adventure|Science Fiction|Thriller</td>\n",
       "      <td>Village Roadshow Pictures|Kennedy Miller Produ...</td>\n",
       "      <td>5/13/2015</td>\n",
       "      <td>6185</td>\n",
       "      <td>7.1</td>\n",
       "      <td>2015</td>\n",
       "    </tr>\n",
       "    <tr>\n",
       "      <td>2</td>\n",
       "      <td>tt2908446</td>\n",
       "      <td>13.112507</td>\n",
       "      <td>110000000</td>\n",
       "      <td>295238201</td>\n",
       "      <td>Insurgent</td>\n",
       "      <td>Shailene Woodley|Theo James|Kate Winslet|Ansel...</td>\n",
       "      <td>Robert Schwentke</td>\n",
       "      <td>One Choice Can Destroy You</td>\n",
       "      <td>Beatrice Prior must confront her inner demons ...</td>\n",
       "      <td>119</td>\n",
       "      <td>Adventure|Science Fiction|Thriller</td>\n",
       "      <td>Summit Entertainment|Mandeville Films|Red Wago...</td>\n",
       "      <td>3/18/2015</td>\n",
       "      <td>2480</td>\n",
       "      <td>6.3</td>\n",
       "      <td>2015</td>\n",
       "    </tr>\n",
       "  </tbody>\n",
       "</table>\n",
       "</div>"
      ],
      "text/plain": [
       "     imdb_id  popularity     budget     revenue      original_title  \\\n",
       "0  tt0369610   32.985763  150000000  1513528810      Jurassic World   \n",
       "1  tt1392190   28.419936  150000000   378436354  Mad Max: Fury Road   \n",
       "2  tt2908446   13.112507  110000000   295238201           Insurgent   \n",
       "\n",
       "                                                cast          director  \\\n",
       "0  Chris Pratt|Bryce Dallas Howard|Irrfan Khan|Vi...   Colin Trevorrow   \n",
       "1  Tom Hardy|Charlize Theron|Hugh Keays-Byrne|Nic...     George Miller   \n",
       "2  Shailene Woodley|Theo James|Kate Winslet|Ansel...  Robert Schwentke   \n",
       "\n",
       "                      tagline  \\\n",
       "0           The park is open.   \n",
       "1          What a Lovely Day.   \n",
       "2  One Choice Can Destroy You   \n",
       "\n",
       "                                            overview  runtime  \\\n",
       "0  Twenty-two years after the events of Jurassic ...      124   \n",
       "1  An apocalyptic story set in the furthest reach...      120   \n",
       "2  Beatrice Prior must confront her inner demons ...      119   \n",
       "\n",
       "                                      genres  \\\n",
       "0  Action|Adventure|Science Fiction|Thriller   \n",
       "1  Action|Adventure|Science Fiction|Thriller   \n",
       "2         Adventure|Science Fiction|Thriller   \n",
       "\n",
       "                                production_companies release_date  vote_count  \\\n",
       "0  Universal Studios|Amblin Entertainment|Legenda...     6/9/2015        5562   \n",
       "1  Village Roadshow Pictures|Kennedy Miller Produ...    5/13/2015        6185   \n",
       "2  Summit Entertainment|Mandeville Films|Red Wago...    3/18/2015        2480   \n",
       "\n",
       "   vote_average  release_year  \n",
       "0           6.5          2015  \n",
       "1           7.1          2015  \n",
       "2           6.3          2015  "
      ]
     },
     "execution_count": 2,
     "metadata": {},
     "output_type": "execute_result"
    }
   ],
   "source": [
    "data = pd.read_csv('./data/data.csv')\n",
    "data.head(3)"
   ]
  },
  {
   "cell_type": "code",
   "execution_count": 3,
   "metadata": {},
   "outputs": [
    {
     "data": {
      "text/html": [
       "<div>\n",
       "<style scoped>\n",
       "    .dataframe tbody tr th:only-of-type {\n",
       "        vertical-align: middle;\n",
       "    }\n",
       "\n",
       "    .dataframe tbody tr th {\n",
       "        vertical-align: top;\n",
       "    }\n",
       "\n",
       "    .dataframe thead th {\n",
       "        text-align: right;\n",
       "    }\n",
       "</style>\n",
       "<table border=\"1\" class=\"dataframe\">\n",
       "  <thead>\n",
       "    <tr style=\"text-align: right;\">\n",
       "      <th></th>\n",
       "      <th>popularity</th>\n",
       "      <th>budget</th>\n",
       "      <th>revenue</th>\n",
       "      <th>runtime</th>\n",
       "      <th>vote_count</th>\n",
       "      <th>vote_average</th>\n",
       "      <th>release_year</th>\n",
       "    </tr>\n",
       "  </thead>\n",
       "  <tbody>\n",
       "    <tr>\n",
       "      <td>count</td>\n",
       "      <td>1890.000000</td>\n",
       "      <td>1.890000e+03</td>\n",
       "      <td>1.890000e+03</td>\n",
       "      <td>1890.000000</td>\n",
       "      <td>1890.000000</td>\n",
       "      <td>1890.000000</td>\n",
       "      <td>1890.000000</td>\n",
       "    </tr>\n",
       "    <tr>\n",
       "      <td>mean</td>\n",
       "      <td>1.560611</td>\n",
       "      <td>5.450696e+07</td>\n",
       "      <td>1.552890e+08</td>\n",
       "      <td>109.653439</td>\n",
       "      <td>785.666667</td>\n",
       "      <td>6.140899</td>\n",
       "      <td>2007.861905</td>\n",
       "    </tr>\n",
       "    <tr>\n",
       "      <td>std</td>\n",
       "      <td>1.849471</td>\n",
       "      <td>4.931705e+07</td>\n",
       "      <td>2.146386e+08</td>\n",
       "      <td>18.013641</td>\n",
       "      <td>1068.725880</td>\n",
       "      <td>0.764584</td>\n",
       "      <td>4.467929</td>\n",
       "    </tr>\n",
       "    <tr>\n",
       "      <td>min</td>\n",
       "      <td>0.010335</td>\n",
       "      <td>5.000000e+06</td>\n",
       "      <td>2.033165e+06</td>\n",
       "      <td>63.000000</td>\n",
       "      <td>10.000000</td>\n",
       "      <td>3.300000</td>\n",
       "      <td>2000.000000</td>\n",
       "    </tr>\n",
       "    <tr>\n",
       "      <td>25%</td>\n",
       "      <td>0.643284</td>\n",
       "      <td>2.000000e+07</td>\n",
       "      <td>3.434007e+07</td>\n",
       "      <td>97.000000</td>\n",
       "      <td>164.000000</td>\n",
       "      <td>5.600000</td>\n",
       "      <td>2004.000000</td>\n",
       "    </tr>\n",
       "    <tr>\n",
       "      <td>50%</td>\n",
       "      <td>1.065065</td>\n",
       "      <td>3.800000e+07</td>\n",
       "      <td>8.358664e+07</td>\n",
       "      <td>106.500000</td>\n",
       "      <td>389.000000</td>\n",
       "      <td>6.100000</td>\n",
       "      <td>2008.000000</td>\n",
       "    </tr>\n",
       "    <tr>\n",
       "      <td>75%</td>\n",
       "      <td>1.804537</td>\n",
       "      <td>7.200000e+07</td>\n",
       "      <td>1.782136e+08</td>\n",
       "      <td>120.000000</td>\n",
       "      <td>937.750000</td>\n",
       "      <td>6.600000</td>\n",
       "      <td>2012.000000</td>\n",
       "    </tr>\n",
       "    <tr>\n",
       "      <td>max</td>\n",
       "      <td>32.985763</td>\n",
       "      <td>4.250000e+08</td>\n",
       "      <td>2.781506e+09</td>\n",
       "      <td>214.000000</td>\n",
       "      <td>9767.000000</td>\n",
       "      <td>8.100000</td>\n",
       "      <td>2015.000000</td>\n",
       "    </tr>\n",
       "  </tbody>\n",
       "</table>\n",
       "</div>"
      ],
      "text/plain": [
       "        popularity        budget       revenue      runtime   vote_count  \\\n",
       "count  1890.000000  1.890000e+03  1.890000e+03  1890.000000  1890.000000   \n",
       "mean      1.560611  5.450696e+07  1.552890e+08   109.653439   785.666667   \n",
       "std       1.849471  4.931705e+07  2.146386e+08    18.013641  1068.725880   \n",
       "min       0.010335  5.000000e+06  2.033165e+06    63.000000    10.000000   \n",
       "25%       0.643284  2.000000e+07  3.434007e+07    97.000000   164.000000   \n",
       "50%       1.065065  3.800000e+07  8.358664e+07   106.500000   389.000000   \n",
       "75%       1.804537  7.200000e+07  1.782136e+08   120.000000   937.750000   \n",
       "max      32.985763  4.250000e+08  2.781506e+09   214.000000  9767.000000   \n",
       "\n",
       "       vote_average  release_year  \n",
       "count   1890.000000   1890.000000  \n",
       "mean       6.140899   2007.861905  \n",
       "std        0.764584      4.467929  \n",
       "min        3.300000   2000.000000  \n",
       "25%        5.600000   2004.000000  \n",
       "50%        6.100000   2008.000000  \n",
       "75%        6.600000   2012.000000  \n",
       "max        8.100000   2015.000000  "
      ]
     },
     "execution_count": 3,
     "metadata": {},
     "output_type": "execute_result"
    }
   ],
   "source": [
    "data.describe()"
   ]
  },
  {
   "cell_type": "markdown",
   "metadata": {},
   "source": [
    "В датасете фильмы представлены следующим набором признаков :    \n",
    "1. imdb_id - идентификатор фильма в базе данных IMDB  \n",
    "2. popularity - рейтинг популярности фильма \n",
    "3. budget - бюджет фильма  \n",
    "4. revenue - доход, который принес фильм   \n",
    "5. original_title - оригинальное название  \n",
    "6. cast - актерский состав фильма  \n",
    "7. director - режиссер фильма  \n",
    "8. tagline - слоган фильма  \n",
    "9. overview - краткое содержание фильма  \n",
    "10. runtime - продолжительность фильма, мин.  \n",
    "11. genres - жанры фильма  \n",
    "12. production_companies - киностудии, участвующие в производстве фильма  \n",
    "13. release_date - дата выхода фильма в прокат  \n",
    "14. vote_count - количество голосов  \n",
    "15. vote_average - рейтинг фильма  \n",
    "16. release_year - год выхода (релиза) фильма"
   ]
  },
  {
   "cell_type": "code",
   "execution_count": 4,
   "metadata": {},
   "outputs": [
    {
     "name": "stdout",
     "output_type": "stream",
     "text": [
      "В файле сождержится информация о 1890 фильмах.\n",
      "У каждого фильма 16 характеристик\n"
     ]
    }
   ],
   "source": [
    "print(f'В файле сождержится информация о {data.shape[0]} фильмах.')\n",
    "print(f'У каждого фильма {data.shape[1]} характеристик')"
   ]
  },
  {
   "cell_type": "code",
   "execution_count": 5,
   "metadata": {},
   "outputs": [
    {
     "name": "stdout",
     "output_type": "stream",
     "text": [
      "<class 'pandas.core.frame.DataFrame'>\n",
      "RangeIndex: 1890 entries, 0 to 1889\n",
      "Data columns (total 16 columns):\n",
      "imdb_id                 1890 non-null object\n",
      "popularity              1890 non-null float64\n",
      "budget                  1890 non-null int64\n",
      "revenue                 1890 non-null int64\n",
      "original_title          1890 non-null object\n",
      "cast                    1890 non-null object\n",
      "director                1890 non-null object\n",
      "tagline                 1890 non-null object\n",
      "overview                1890 non-null object\n",
      "runtime                 1890 non-null int64\n",
      "genres                  1890 non-null object\n",
      "production_companies    1890 non-null object\n",
      "release_date            1890 non-null object\n",
      "vote_count              1890 non-null int64\n",
      "vote_average            1890 non-null float64\n",
      "release_year            1890 non-null int64\n",
      "dtypes: float64(2), int64(5), object(9)\n",
      "memory usage: 236.4+ KB\n"
     ]
    }
   ],
   "source": [
    "# проверим пропуски и типы данных\n",
    "data.info()"
   ]
  },
  {
   "cell_type": "markdown",
   "metadata": {},
   "source": [
    "# Предобработка датасета"
   ]
  },
  {
   "cell_type": "code",
   "execution_count": 6,
   "metadata": {},
   "outputs": [],
   "source": [
    "# создадим словарь с ответами на вопросы\n",
    "answer_dict = {}  "
   ]
  },
  {
   "cell_type": "markdown",
   "metadata": {},
   "source": [
    "# 1. У какого фильма из списка самый большой бюджет?\n",
    "Варианты ответов:  \n",
    "1. The Dark Knight Rises (tt1345836)\n",
    "2. Spider-Man 3 (tt0413300)\n",
    "3. Avengers: Age of Ultron (tt2395427)\n",
    "4. The Warrior's Way (tt1032751) верно\n",
    "5. Pirates of the Caribbean: On Stranger Tides (tt1298650)"
   ]
  },
  {
   "cell_type": "code",
   "execution_count": 7,
   "metadata": {},
   "outputs": [
    {
     "name": "stdout",
     "output_type": "stream",
     "text": [
      "1. Cамый большой бюджет у фильма: The Warrior's Way\n"
     ]
    }
   ],
   "source": [
    "print(f'1. Cамый большой бюджет у фильма: {data.iloc[np.argmax(data.budget.values)].original_title}')"
   ]
  },
  {
   "cell_type": "code",
   "execution_count": 8,
   "metadata": {},
   "outputs": [],
   "source": [
    "# тут вводим ваш ответ и добавлем в его список ответов \n",
    "# 4. The Warrior's Way\t(tt1032751)\n",
    "answer_dict[1] = 4"
   ]
  },
  {
   "cell_type": "markdown",
   "metadata": {},
   "source": [
    "# 2. Какой из фильмов самый длительный (в минутах)\n",
    "1. The Lord of the Rings: The Return of the King\t(tt0167260)\n",
    "2. Gods and Generals\t(tt0279111)\n",
    "3. King Kong\t(tt0360717)\n",
    "4. Pearl Harbor\t(tt0213149)\n",
    "5. Alexander\t(tt0346491)"
   ]
  },
  {
   "cell_type": "code",
   "execution_count": 9,
   "metadata": {},
   "outputs": [
    {
     "name": "stdout",
     "output_type": "stream",
     "text": [
      "2. Cамый длительный (в минутах) фильм: Gods and Generals\n"
     ]
    }
   ],
   "source": [
    "print(f'2. Cамый длительный (в минутах) фильм: {data.iloc[np.argmax(data.runtime.values)].original_title}')"
   ]
  },
  {
   "cell_type": "code",
   "execution_count": 10,
   "metadata": {},
   "outputs": [],
   "source": [
    "# 2. Gods and Generals (tt0279111)\n",
    "answer_dict[2] = 2"
   ]
  },
  {
   "cell_type": "markdown",
   "metadata": {},
   "source": [
    "# 3. Какой из фильмов самый короткий (в минутах)\n",
    "Варианты ответов:\n",
    "\n",
    "1. Home on the Range\ttt0299172\n",
    "2. The Jungle Book 2\ttt0283426\n",
    "3. Winnie the Pooh\ttt1449283\n",
    "4. Corpse Bride\ttt0121164\n",
    "5. Hoodwinked!\ttt0443536"
   ]
  },
  {
   "cell_type": "code",
   "execution_count": 11,
   "metadata": {},
   "outputs": [
    {
     "name": "stdout",
     "output_type": "stream",
     "text": [
      "3. Cамый короткий (в минутах) фильм: Winnie the Pooh\n"
     ]
    }
   ],
   "source": [
    "print(f'3. Cамый короткий (в минутах) фильм: {data.iloc[np.argmin(data.runtime.values)].original_title}')"
   ]
  },
  {
   "cell_type": "code",
   "execution_count": 12,
   "metadata": {},
   "outputs": [],
   "source": [
    "# 3. Winnie the Pooh tt1449283\n",
    "answer_dict[3] = 3"
   ]
  },
  {
   "cell_type": "markdown",
   "metadata": {},
   "source": [
    "# 4. Средняя длительность фильма?  \n",
    "Варианты ответов:  \n",
    "1. 115  \n",
    "2. 110  \n",
    "3. 105  \n",
    "4. 120  \n",
    "5. 100"
   ]
  },
  {
   "cell_type": "code",
   "execution_count": 13,
   "metadata": {},
   "outputs": [
    {
     "name": "stdout",
     "output_type": "stream",
     "text": [
      "4. Средняя длительность фильма: 109.65343915343915\n"
     ]
    }
   ],
   "source": [
    "column = 'runtime'\n",
    "print(f'4. Средняя длительность фильма: {data[column].mean()}')"
   ]
  },
  {
   "cell_type": "code",
   "execution_count": 14,
   "metadata": {},
   "outputs": [],
   "source": [
    "# 2. 110\n",
    "answer_dict[4] = 2"
   ]
  },
  {
   "cell_type": "markdown",
   "metadata": {},
   "source": [
    "# 5. Средняя длительность фильма по медиане?\n",
    "Варианты ответов:\n",
    "1. 106\n",
    "2. 112\n",
    "3. 101\n",
    "4. 120\n",
    "5. 115\n",
    "\n",
    "\n"
   ]
  },
  {
   "cell_type": "code",
   "execution_count": 15,
   "metadata": {},
   "outputs": [
    {
     "name": "stdout",
     "output_type": "stream",
     "text": [
      "5. Средняя длительность фильма по медиане: 106.5\n"
     ]
    }
   ],
   "source": [
    "column = 'runtime'\n",
    "print(f'5. Средняя длительность фильма по медиане: {data[column].median()}')"
   ]
  },
  {
   "cell_type": "code",
   "execution_count": 16,
   "metadata": {},
   "outputs": [],
   "source": [
    "# 1. 106\n",
    "answer_dict[5] = 1"
   ]
  },
  {
   "cell_type": "markdown",
   "metadata": {},
   "source": [
    "# 6. Какой самый прибыльный фильм?  \n",
    "Варианты ответов:  \n",
    "1. The Avengers\ttt0848228  \n",
    "2. Minions\ttt2293640  \n",
    "3. Star Wars: The Force Awakens\ttt2488496  \n",
    "4. Furious 7\ttt2820852  \n",
    "5. Avatar\ttt0499549"
   ]
  },
  {
   "cell_type": "code",
   "execution_count": 17,
   "metadata": {},
   "outputs": [
    {
     "name": "stdout",
     "output_type": "stream",
     "text": [
      "6. Cамый прибыльный фильм: Avatar\n"
     ]
    }
   ],
   "source": [
    "data['profit'] = data.revenue - data.budget\n",
    "print(f'6. Cамый прибыльный фильм: {data.iloc[np.argmax(data.profit.values)].original_title}')"
   ]
  },
  {
   "cell_type": "code",
   "execution_count": 18,
   "metadata": {},
   "outputs": [],
   "source": [
    "# 5. Avatar\ttt049954\n",
    "answer_dict[6] = 5"
   ]
  },
  {
   "cell_type": "markdown",
   "metadata": {},
   "source": [
    "# 7. Какой фильм самый убыточный?  \n",
    "Варианты ответов:  \n",
    "1. Supernova tt0134983  \n",
    "2. The Warrior's Way tt1032751  \n",
    "3. Flushed Away\ttt0424095  \n",
    "4. The Adventures of Pluto Nash\ttt0180052  \n",
    "5. The Lone Ranger\ttt1210819"
   ]
  },
  {
   "cell_type": "code",
   "execution_count": 19,
   "metadata": {},
   "outputs": [
    {
     "name": "stdout",
     "output_type": "stream",
     "text": [
      "7. Cамый убыточный фильм: The Warrior's Way\n"
     ]
    }
   ],
   "source": [
    "print(f'7. Cамый убыточный фильм: {data.iloc[np.argmin(data.profit.values)].original_title}')"
   ]
  },
  {
   "cell_type": "code",
   "execution_count": 20,
   "metadata": {},
   "outputs": [],
   "source": [
    "# 2. The Warrior's Way tt1032751\n",
    "answer_dict[7] = 2"
   ]
  },
  {
   "cell_type": "markdown",
   "metadata": {},
   "source": [
    "# 8. Сколько всего фильмов в прибыли?  \n",
    "Варианты ответов:  \n",
    "1. 1478  \n",
    "2. 1520  \n",
    "3. 1241  \n",
    "4. 1135  \n",
    "5. 1398  "
   ]
  },
  {
   "cell_type": "code",
   "execution_count": 21,
   "metadata": {},
   "outputs": [
    {
     "name": "stdout",
     "output_type": "stream",
     "text": [
      "8. Всего в прибыли 1478 фильмов.\n"
     ]
    }
   ],
   "source": [
    "count_pozitiv = len(data[data.profit > 0])\n",
    "print(f'8. Всего в прибыли {count_pozitiv } фильмов.')"
   ]
  },
  {
   "cell_type": "code",
   "execution_count": 22,
   "metadata": {},
   "outputs": [],
   "source": [
    "# 1. 1478\n",
    "answer_dict[8] = 1"
   ]
  },
  {
   "cell_type": "markdown",
   "metadata": {},
   "source": [
    "# 9. Самый прибыльный фильм в 2008 году?\n",
    "Варианты ответов:  \n",
    "1. Madagascar: Escape 2 Africa\ttt0479952  \n",
    "2. Iron Man\ttt0371746  \n",
    "3. Kung Fu Panda\ttt0441773  \n",
    "4. The Dark Knight\ttt0468569  \n",
    "5. Mamma Mia!\ttt0795421"
   ]
  },
  {
   "cell_type": "code",
   "execution_count": 23,
   "metadata": {},
   "outputs": [],
   "source": [
    "from datetime import datetime\n",
    "data.release_date = pd.to_datetime(data.release_date)"
   ]
  },
  {
   "cell_type": "code",
   "execution_count": 24,
   "metadata": {},
   "outputs": [
    {
     "name": "stdout",
     "output_type": "stream",
     "text": [
      "9. Cамый прибыльный фильм 2008 года: The Dark Knight\n"
     ]
    }
   ],
   "source": [
    "release_2008 = data[data.release_date.dt.year == 2008]\n",
    "print(f'9. Cамый прибыльный фильм 2008 года: {release_2008.iloc[np.argmax(release_2008.profit.values)].original_title}')"
   ]
  },
  {
   "cell_type": "code",
   "execution_count": 25,
   "metadata": {},
   "outputs": [],
   "source": [
    "# 4. The Dark Knight tt0468569\n",
    "answer_dict[9] = 4"
   ]
  },
  {
   "cell_type": "markdown",
   "metadata": {},
   "source": [
    "# 10. Самый убыточный фильм за период с 2012 по 2014 (включительно)?  \n",
    "Варианты ответов:  \n",
    "1. Winter's Tale\ttt1837709  \n",
    "2. Stolen\ttt1656186  \n",
    "3. Broken City\ttt1235522  \n",
    "4. Upside Down\ttt1374992  \n",
    "5. The Lone Ranger\ttt1210819\n"
   ]
  },
  {
   "cell_type": "code",
   "execution_count": 26,
   "metadata": {},
   "outputs": [
    {
     "name": "stdout",
     "output_type": "stream",
     "text": [
      "10. Cамый убыточный фильм за период 2012-2014: The Lone Ranger\n"
     ]
    }
   ],
   "source": [
    "release_12_14 = data[(data.release_date.dt.year >= 2012) & (data.release_date.dt.year <= 2014)]\n",
    "print(f'10. Cамый убыточный фильм за период 2012-2014: {release_12_14.iloc[np.argmin(release_12_14.profit.values)].original_title}')"
   ]
  },
  {
   "cell_type": "code",
   "execution_count": 27,
   "metadata": {},
   "outputs": [],
   "source": [
    "# 5. The Lone Ranger tt1210819\n",
    "answer_dict[10] = 5"
   ]
  },
  {
   "cell_type": "markdown",
   "metadata": {},
   "source": [
    "# 11. Какого жанра фильмов больше всего?  \n",
    "Варианты ответов:  \n",
    "1. Action  \n",
    "2. Adventure  \n",
    "3. Drama  \n",
    "4. Comedy  \n",
    "5. Thriller"
   ]
  },
  {
   "cell_type": "code",
   "execution_count": 28,
   "metadata": {},
   "outputs": [
    {
     "name": "stdout",
     "output_type": "stream",
     "text": [
      "11. Самый распространненный жанр: Drama\n"
     ]
    }
   ],
   "source": [
    "# столбец genres содержит разделитель '|' между названиями жанров\n",
    "# на его основе создадим столбец, содержащий список (list),\n",
    "# в котором будет перечисление жанров из этого фильма\n",
    "# и создадим список жанров из всех фильмов\n",
    "genres_all = []\n",
    "data['genres_lst'] = [rec.split('|') for rec in data.genres]\n",
    "for record in data.genres_lst:\n",
    "    for item in record:\n",
    "        genres_all.append(item)\n",
    "        \n",
    "print(f'11. Самый распространненный жанр: {pd.Series(genres_all).value_counts().index[0]}')"
   ]
  },
  {
   "cell_type": "code",
   "execution_count": 29,
   "metadata": {},
   "outputs": [],
   "source": [
    "# 3. Drama\n",
    "answer_dict[11] = 3"
   ]
  },
  {
   "cell_type": "markdown",
   "metadata": {},
   "source": [
    "# 12. Какого жанра среди прибыльных фильмов больше всего?  \n",
    "Варианты ответов:  \n",
    "1. Action  \n",
    "2. Adventure \n",
    "3. Drama  \n",
    "4. Comedy  \n",
    "5. Thriller  "
   ]
  },
  {
   "cell_type": "code",
   "execution_count": 30,
   "metadata": {},
   "outputs": [
    {
     "name": "stdout",
     "output_type": "stream",
     "text": [
      "12. Самый распространненный жанр среди прибыльных фильмов: Drama\n"
     ]
    }
   ],
   "source": [
    "genres_profit = [] # список жанров прибыльных фильмов\n",
    "for record in data[data.profit > 0].genres_lst:\n",
    "    for item in record:\n",
    "        genres_profit.append(item)\n",
    "        \n",
    "print(f'12. Самый распространненный жанр среди прибыльных фильмов: {pd.Series(genres_profit).value_counts().index[0]}')"
   ]
  },
  {
   "cell_type": "code",
   "execution_count": 31,
   "metadata": {},
   "outputs": [],
   "source": [
    "# 3. Drama\n",
    "answer_dict[12] = 3"
   ]
  },
  {
   "cell_type": "markdown",
   "metadata": {},
   "source": [
    "# 13. Кто из режиссеров снял больше всего фильмов?  \n",
    "Варианты ответов:  \n",
    "1. Steven Spielberg  \n",
    "2. Ridley Scott  \n",
    "3. Steven Soderbergh  \n",
    "4. Christopher Nolan  \n",
    "5. Clint Eastwood"
   ]
  },
  {
   "cell_type": "code",
   "execution_count": 32,
   "metadata": {},
   "outputs": [
    {
     "name": "stdout",
     "output_type": "stream",
     "text": [
      "13. Больше всех фильмов снял: Steven Soderbergh\n"
     ]
    }
   ],
   "source": [
    "# столбец director содержит разделитель '|', если режиссерами несколько \n",
    "# на его основе создадим столбец, содержащий список (lst),\n",
    "# в котором будет перечисление режиссеров этого фильма\n",
    "# и создадим список всех режиссеров\n",
    "director_all = []\n",
    "data['director_lst'] = [rec.split('|') for rec in data.director]\n",
    "for record in data.director_lst:\n",
    "    for item in record:\n",
    "        director_all.append(item)\n",
    "        \n",
    "print(f'13. Больше всех фильмов снял: {pd.Series(director_all).value_counts().index[0]}')"
   ]
  },
  {
   "cell_type": "code",
   "execution_count": 33,
   "metadata": {},
   "outputs": [],
   "source": [
    "# 3. Steven Soderbergh\n",
    "answer_dict[13] = 3"
   ]
  },
  {
   "cell_type": "markdown",
   "metadata": {},
   "source": [
    "# 14. Кто из режиссеров снял больше всего Прибыльных фильмов?  \n",
    "Варианты ответов:  \n",
    "1. Steven Spielberg\n",
    "2. Ridley Scott \n",
    "3. Steven Soderbergh  \n",
    "4. Christopher Nolan\n",
    "5. Clint Eastwood  "
   ]
  },
  {
   "cell_type": "code",
   "execution_count": 34,
   "metadata": {},
   "outputs": [
    {
     "name": "stdout",
     "output_type": "stream",
     "text": [
      "14. Больше всего прибыльных фильмов снял: Ridley Scott\n"
     ]
    }
   ],
   "source": [
    "director_profit = [] # список режисеров прибыльных фильмов\n",
    "for record in data[data.profit > 0].director_lst:\n",
    "    for item in record:\n",
    "        director_profit.append(item)\n",
    "        \n",
    "print(f'14. Больше всего прибыльных фильмов снял: {pd.Series(director_profit).value_counts().index[0]}')"
   ]
  },
  {
   "cell_type": "code",
   "execution_count": 35,
   "metadata": {},
   "outputs": [],
   "source": [
    "# 2. Ridley Scott\n",
    "answer_dict[14] = 2"
   ]
  },
  {
   "cell_type": "markdown",
   "metadata": {},
   "source": [
    "# 15. Кто из режиссеров принес больше всего прибыли?  \n",
    "Варианты ответов:  \n",
    "1. Steven Spielberg  \n",
    "2. James Cameron\n",
    "3. Christopher Nolan  \n",
    "4. David Yates     \n",
    "5. Peter Jackson\n"
   ]
  },
  {
   "cell_type": "code",
   "execution_count": 36,
   "metadata": {},
   "outputs": [
    {
     "name": "stdout",
     "output_type": "stream",
     "text": [
      "15. Больше всего прибыли у режиссера: Peter Jackson\n"
     ]
    }
   ],
   "source": [
    "# создадим словарь, где ключом будет режисер, а \n",
    "# значением - размер сборов за снятые фильмы\n",
    "director_dict = {}\n",
    "for director in pd.Series(director_all).unique():\n",
    "    director_dict[director] = 0\n",
    "\n",
    "for i in range(len(data)):\n",
    "    for director in data.iloc[i].director_lst:\n",
    "        director_dict[director] += data.iloc[i]['profit']\n",
    "\n",
    "# Сортировку по второму значению в словаре выполним с использованием\n",
    "# модуля operator и функции sorted\n",
    "import operator\n",
    "\n",
    "director_dict = sorted(director_dict.items(), key=operator.itemgetter(1), reverse=True) \n",
    "print(f'15. Больше всего прибыли у режиссера: {director_dict[0][0]}')\n"
   ]
  },
  {
   "cell_type": "code",
   "execution_count": 37,
   "metadata": {},
   "outputs": [
    {
     "data": {
      "text/plain": [
       "[('Peter Jackson', 5202593685)]"
      ]
     },
     "execution_count": 37,
     "metadata": {},
     "output_type": "execute_result"
    }
   ],
   "source": [
    "# Можно иначе (через Counter)\n",
    "director_and_profit = Counter()\n",
    "for i in range(len(data)):\n",
    "     for director in data.iloc[i].director_lst:\n",
    "            director_and_profit[director] += data.iloc[i].profit\n",
    "\n",
    "# метод most_common(n) возвращает n наиболее часто\n",
    "# встречающихся элементов, в порядке убывания \n",
    "director_and_profit.most_common(1) "
   ]
  },
  {
   "cell_type": "code",
   "execution_count": 38,
   "metadata": {},
   "outputs": [],
   "source": [
    "# 5. Peter Jackson\n",
    "answer_dict[15] = 5"
   ]
  },
  {
   "cell_type": "markdown",
   "metadata": {},
   "source": [
    "# 16. Какой актер принес больше всего прибыли?  \n",
    "Варианты ответов:  \n",
    "1. Emma Watson  \n",
    "2. Johnny Depp  \n",
    "3. Michelle Rodriguez  \n",
    "4. Orlando Bloom  \n",
    "5. Rupert Grint"
   ]
  },
  {
   "cell_type": "code",
   "execution_count": 39,
   "metadata": {},
   "outputs": [
    {
     "name": "stdout",
     "output_type": "stream",
     "text": [
      "15. Больше всего прибыли у актера: Emma Watson\n"
     ]
    }
   ],
   "source": [
    "# столбец cast содержит разделитель '|', если актеров несколько \n",
    "# на его основе создадим столбец, содержащий список (lst),\n",
    "# в котором будет перечисление актеров этого фильма\n",
    "data['cast_lst'] = [rec.split('|') for rec in data.cast]\n",
    "cast_and_profit = Counter()\n",
    "for i in range(len(data)):\n",
    "     for cast in data.iloc[i].cast_lst:\n",
    "            cast_and_profit[cast] += data.iloc[i].profit\n",
    "\n",
    "# метод most_common(n) возвращает n наиболее часто\n",
    "# встречающихся элементов, в порядке убывания \n",
    "print(f'15. Больше всего прибыли у актера: {cast_and_profit.most_common(1)[0][0]}')"
   ]
  },
  {
   "cell_type": "code",
   "execution_count": 40,
   "metadata": {},
   "outputs": [],
   "source": [
    "#1. Emma Watson\n",
    "answer_dict[16] = 1"
   ]
  },
  {
   "cell_type": "markdown",
   "metadata": {},
   "source": [
    "# 17. Какой актер принес меньше всего прибыли в 2012 году?  \n",
    "Варианты ответов:  \n",
    "1. Nicolas Cage  \n",
    "2. Danny Huston  \n",
    "3. Kirsten Dunst  \n",
    "4. Jim Sturgess  \n",
    "5. Sami Gayle"
   ]
  },
  {
   "cell_type": "code",
   "execution_count": 41,
   "metadata": {},
   "outputs": [
    {
     "name": "stdout",
     "output_type": "stream",
     "text": [
      "17. Меньше всего прибыли в 2012 году принес актер: Kirsten Dunst\n"
     ]
    }
   ],
   "source": [
    "data_2012 = data[data['release_year'] == 2012][['cast_lst', 'profit']]\n",
    "cast_and_profit_2012 = Counter()\n",
    "for i in range(len(data_2012)):\n",
    "     for cast in data_2012.iloc[i].cast_lst:\n",
    "            cast_and_profit_2012[cast] += data_2012.iloc[i].profit\n",
    " \n",
    "print(f'17. Меньше всего прибыли в 2012 году принес актер: {cast_and_profit_2012.most_common()[-1][0]}')"
   ]
  },
  {
   "cell_type": "code",
   "execution_count": 42,
   "metadata": {},
   "outputs": [],
   "source": [
    "# 3. Kirsten Dunst\n",
    "answer_dict[17] = 3"
   ]
  },
  {
   "cell_type": "markdown",
   "metadata": {},
   "source": [
    "# 18. Какой актер снялся в большем количестве высокобюджетных фильмов? (в фильмах где бюджет выше среднего по данной выборке)  \n",
    "Варианты ответов:  \n",
    "1. Tom Cruise  \n",
    "2. Mark Wahlberg   \n",
    "3. Matt Damon  \n",
    "4. Angelina Jolie  \n",
    "5. Adam Sandler"
   ]
  },
  {
   "cell_type": "code",
   "execution_count": 43,
   "metadata": {},
   "outputs": [],
   "source": [
    "# создадим временный датафрейм фильмов с бюджетами выше среднего\n",
    "big_budget = pd.DataFrame(data[data.budget > data.budget.mean()]['cast_lst'])"
   ]
  },
  {
   "cell_type": "code",
   "execution_count": 44,
   "metadata": {},
   "outputs": [
    {
     "name": "stdout",
     "output_type": "stream",
     "text": [
      "18. В большем количестве высокобюджетных фильмов снялся: Matt Damon\n"
     ]
    }
   ],
   "source": [
    "cast_big_budget = Counter()\n",
    "for i in range(len(big_budget)):\n",
    "    for cast in big_budget.iloc[i].cast_lst:\n",
    "        cast_big_budget[cast] += 1\n",
    "print(f'18. В большем количестве высокобюджетных фильмов снялся: {cast_big_budget.most_common(1)[0][0]}')"
   ]
  },
  {
   "cell_type": "code",
   "execution_count": 45,
   "metadata": {},
   "outputs": [],
   "source": [
    "# 3. Matt Damon\n",
    "answer_dict[18] = 3"
   ]
  },
  {
   "cell_type": "markdown",
   "metadata": {},
   "source": [
    "# 19. В фильмах какого жанра больше всего снимался Nicolas Cage?  \n",
    "Варианты ответа:  \n",
    "1. Drama  \n",
    "2. Action  \n",
    "3. Thriller  \n",
    "4. Adventure  \n",
    "5. Crime"
   ]
  },
  {
   "cell_type": "code",
   "execution_count": 46,
   "metadata": {},
   "outputs": [
    {
     "name": "stdout",
     "output_type": "stream",
     "text": [
      "19. Nicolas Cage чаще всего снимался в жанре: Action\n"
     ]
    }
   ],
   "source": [
    "genres_Nicolas = Counter()\n",
    "for i in range(len(data)):\n",
    "    if 'Nicolas Cage' in data.iloc[i].cast_lst:\n",
    "        for genres in data.iloc[i].genres_lst:\n",
    "            genres_Nicolas[genres] += 1\n",
    "print(f'19. Nicolas Cage чаще всего снимался в жанре: {genres_Nicolas.most_common(1)[0][0]}')"
   ]
  },
  {
   "cell_type": "code",
   "execution_count": 47,
   "metadata": {},
   "outputs": [],
   "source": [
    "# 2. Action\n",
    "answer_dict[19] = 2"
   ]
  },
  {
   "cell_type": "markdown",
   "metadata": {},
   "source": [
    "# 20. Какая киностудия сняла больше всего фильмов?  \n",
    "Варианты ответа:  \n",
    "1. Universal Pictures (Universal)  \n",
    "2. Paramount Pictures  \n",
    "3. Columbia Pictures  \n",
    "4. Warner Bros  \n",
    "5. Twentieth Century Fox Film Corporation"
   ]
  },
  {
   "cell_type": "code",
   "execution_count": 48,
   "metadata": {},
   "outputs": [
    {
     "data": {
      "text/plain": [
       "array(['Universal Studios|Amblin Entertainment|Legendary Pictures|Fuji Television Network|Dentsu',\n",
       "       'Village Roadshow Pictures|Kennedy Miller Productions',\n",
       "       'Summit Entertainment|Mandeville Films|Red Wagon Entertainment|NeoReel',\n",
       "       ...,\n",
       "       \"Twentieth Century Fox Film Corporation|Donners' Company|Bad Hat Harry Productions|Marvel Enterprises|Springwood Productions\",\n",
       "       'Universal Pictures|Capella International|KC Medien AG|Tribeca Productions',\n",
       "       'Laurence Mark Productions|Columbia Pictures Corporation|Global Entertainment Productions GmbH & Company Medien KG|Nora Ephron Productions'],\n",
       "      dtype=object)"
      ]
     },
     "execution_count": 48,
     "metadata": {},
     "output_type": "execute_result"
    }
   ],
   "source": [
    "# по студиям посмотрим уникальные записи\n",
    "data['production_companies'].unique()"
   ]
  },
  {
   "cell_type": "code",
   "execution_count": 49,
   "metadata": {},
   "outputs": [
    {
     "name": "stdout",
     "output_type": "stream",
     "text": [
      "20. Больше всего фильмов сняла киностудия: Universal Pictures\n"
     ]
    }
   ],
   "source": [
    "# видно, что столбец с киностудиями тоже содержит разделитель '|'\n",
    "# на его основе создадим столбец, содержащий список (lst), \n",
    "# в котором будут перечислены киностудии из столбца 'production_companies'\n",
    "# Теперь понимаю, что надо было сразу сделать всю предобработку \n",
    "# и создать отдельную функцию для столбцов с перечислениями элементов через '|' \n",
    "\n",
    "data['production_companies_lst'] = [rec.split('|') for rec in data.production_companies]\n",
    "\n",
    "count_films_companies = Counter()\n",
    "for i in range(len(data)):\n",
    "    for compani in data.iloc[i].production_companies_lst:\n",
    "            count_films_companies[compani] += 1\n",
    "\n",
    "print(f'20. Больше всего фильмов сняла киностудия: {count_films_companies.most_common(1)[0][0]}')"
   ]
  },
  {
   "cell_type": "code",
   "execution_count": 50,
   "metadata": {},
   "outputs": [],
   "source": [
    "# 1. Universal Pictures (Universal)\n",
    "answer_dict[20] = 1"
   ]
  },
  {
   "cell_type": "markdown",
   "metadata": {},
   "source": [
    "# 21. Какая студия сняла больше всего фильмов в 2015 году?  \n",
    "Варианты ответа:  \n",
    "1. Universal Pictures  \n",
    "2. Paramount Pictures  \n",
    "3. Columbia Pictures  \n",
    "4. Warner Bros  \n",
    "5. Twentieth Century Fox Film Corporation"
   ]
  },
  {
   "cell_type": "code",
   "execution_count": 51,
   "metadata": {},
   "outputs": [
    {
     "name": "stdout",
     "output_type": "stream",
     "text": [
      "21. В 2015 году больше всего фильмов сняла киностудия: Warner Bros.\n"
     ]
    }
   ],
   "source": [
    "count_films_companies_2015 = Counter()\n",
    "for i in range(len(data)):\n",
    "    if (data.iloc[i].release_date).year == 2015:\n",
    "        for compani in data.iloc[i].production_companies_lst:\n",
    "            count_films_companies_2015[compani] += 1\n",
    "\n",
    "print(f'21. В 2015 году больше всего фильмов сняла киностудия: {count_films_companies_2015.most_common(1)[0][0]}')"
   ]
  },
  {
   "cell_type": "code",
   "execution_count": 52,
   "metadata": {},
   "outputs": [],
   "source": [
    "# 4. Warner Bros\n",
    "answer_dict[21] = 4"
   ]
  },
  {
   "cell_type": "markdown",
   "metadata": {},
   "source": [
    "# 22. Какая студия заработала больше всего денег в жанре комедий за все время?  \n",
    "Варианты ответа:  \n",
    "1. Warner Bros  \n",
    "2. Universal Pictures (Universal)  \n",
    "3. Columbia Pictures  \n",
    "4. Paramount Pictures  \n",
    "5. Walt Disney"
   ]
  },
  {
   "cell_type": "code",
   "execution_count": 53,
   "metadata": {},
   "outputs": [
    {
     "name": "stdout",
     "output_type": "stream",
     "text": [
      "22. В жанре комедий за все время больше всего денег заработала киностудия: Universal Pictures\n"
     ]
    }
   ],
   "source": [
    "companies_genres_comedy = Counter()\n",
    "for i in range(len(data)):\n",
    "    for compani in data.iloc[i].production_companies_lst:\n",
    "        if 'Comedy' in data.iloc[i].genres_lst:\n",
    "            companies_genres_comedy[compani] += data.iloc[i].profit\n",
    "\n",
    "print(f'22. В жанре комедий за все время больше всего денег заработала киностудия: {companies_genres_comedy.most_common(1)[0][0]}')"
   ]
  },
  {
   "cell_type": "code",
   "execution_count": 54,
   "metadata": {},
   "outputs": [],
   "source": [
    "# 2. Universal Pictures (Universal)\n",
    "answer_dict[22] = 2"
   ]
  },
  {
   "cell_type": "markdown",
   "metadata": {},
   "source": [
    "# 23. Какая студия заработала больше всего денег в 2012 году?  \n",
    "Варианты ответа:  \n",
    "1. Universal Pictures (Universal)  \n",
    "2. Warner Bros  \n",
    "3. Columbia Pictures  \n",
    "4. Paramount Pictures  \n",
    "5. Lucasfilm"
   ]
  },
  {
   "cell_type": "code",
   "execution_count": 55,
   "metadata": {},
   "outputs": [
    {
     "name": "stdout",
     "output_type": "stream",
     "text": [
      "23. В 2012 году больше всего денег заработала киностудия: Columbia Pictures\n"
     ]
    }
   ],
   "source": [
    "rich_companies_2012 = Counter()\n",
    "for i in range(len(data)):\n",
    "    if (data.iloc[i].release_date).year == 2012:\n",
    "        for compani in data.iloc[i].production_companies_lst:\n",
    "            rich_companies_2012[compani] += data.iloc[i].profit\n",
    "\n",
    "print(f'23. В 2012 году больше всего денег заработала киностудия: {rich_companies_2012.most_common(1)[0][0]}')"
   ]
  },
  {
   "cell_type": "code",
   "execution_count": 56,
   "metadata": {},
   "outputs": [],
   "source": [
    "# 3. Columbia Pictures\n",
    "answer_dict[23] = 3"
   ]
  },
  {
   "cell_type": "markdown",
   "metadata": {},
   "source": [
    "# 24. Самый убыточный фильм от Paramount Pictures\n",
    "Варианты ответа:\n",
    "\n",
    "1. K-19: The Widowmaker tt0267626\n",
    "2. Next tt0435705\n",
    "3. Twisted tt0315297\n",
    "4. The Love Guru tt0811138\n",
    "5. The Fighter tt0964517"
   ]
  },
  {
   "cell_type": "code",
   "execution_count": 57,
   "metadata": {},
   "outputs": [],
   "source": [
    "# не надо было заменять строку с перечнем компаний, она пригодилась бы\n",
    "films_Paramount_Pictures = data[data['production_companies'].str.contains('Paramount Pictures')][['original_title', 'profit']]"
   ]
  },
  {
   "cell_type": "code",
   "execution_count": 58,
   "metadata": {},
   "outputs": [
    {
     "name": "stdout",
     "output_type": "stream",
     "text": [
      "Самый убыточный фильм от Paramount Pictures: K-19: The Widowmaker\n"
     ]
    }
   ],
   "source": [
    "print(f'Самый убыточный фильм от Paramount Pictures: {films_Paramount_Pictures.iloc[np.argmin(films_Paramount_Pictures.profit.values)].original_title}')"
   ]
  },
  {
   "cell_type": "code",
   "execution_count": 59,
   "metadata": {},
   "outputs": [],
   "source": [
    "# 1. K-19: The Widowmaker tt0267626\n",
    "answer_dict[24] = 1"
   ]
  },
  {
   "cell_type": "markdown",
   "metadata": {},
   "source": [
    "# 25. Какой Самый прибыльный год (заработали больше всего)?  \n",
    "Варианты ответа:  \n",
    "1. 2014  \n",
    "2. 2008  \n",
    "3. 2012  \n",
    "4. 2002  \n",
    "5. 2015"
   ]
  },
  {
   "cell_type": "code",
   "execution_count": 60,
   "metadata": {},
   "outputs": [
    {
     "name": "stdout",
     "output_type": "stream",
     "text": [
      "25. Самый прибыльный год: 2015\n"
     ]
    }
   ],
   "source": [
    "profit_by_year = data.groupby('release_year')['profit'].sum().sort_values(ascending=False)\n",
    "best_year = profit_by_year.index[0]\n",
    "print(f'25. Самый прибыльный год: {best_year}')"
   ]
  },
  {
   "cell_type": "code",
   "execution_count": 61,
   "metadata": {},
   "outputs": [],
   "source": [
    "# 5. 2015\n",
    "answer_dict[25] = 5"
   ]
  },
  {
   "cell_type": "markdown",
   "metadata": {},
   "source": [
    "# 26. Какой Самый прибыльный год для студии Warner Bros?  \n",
    "Варианты ответа:  \n",
    "1. 2014  \n",
    "2. 2008  \n",
    "3. 2012  \n",
    "4. 2010  \n",
    "5. 2015"
   ]
  },
  {
   "cell_type": "code",
   "execution_count": 62,
   "metadata": {},
   "outputs": [
    {
     "name": "stdout",
     "output_type": "stream",
     "text": [
      "26. Самый прибыльный год для студии Warner Bros: 2014\n"
     ]
    }
   ],
   "source": [
    "Warner_Bros = data[data['production_companies'].str.contains('Warner Bros')][['release_year', 'profit']]\n",
    "best_year_Warner_Bros = Warner_Bros.groupby('release_year').profit.sum().sort_values(ascending=False).index[0]\n",
    "print(f'26. Самый прибыльный год для студии Warner Bros: {best_year_Warner_Bros}')"
   ]
  },
  {
   "cell_type": "code",
   "execution_count": 63,
   "metadata": {},
   "outputs": [],
   "source": [
    "# 1. 2014\n",
    "answer_dict[26] = 1"
   ]
  },
  {
   "cell_type": "markdown",
   "metadata": {},
   "source": [
    "# 27. В каком месяце за все годы суммарно вышло больше всего фильмов?  \n",
    "Варианты ответа:  \n",
    "1. Январь  \n",
    "2. Июнь  \n",
    "3. Декабрь  \n",
    "4. Сентябрь  \n",
    "5. Май"
   ]
  },
  {
   "cell_type": "code",
   "execution_count": 64,
   "metadata": {},
   "outputs": [],
   "source": [
    "# создадим новый столбец с названием месяца\n",
    "data['release_month'] = data['release_date'].apply(lambda x: x.month)"
   ]
  },
  {
   "cell_type": "code",
   "execution_count": 65,
   "metadata": {},
   "outputs": [
    {
     "name": "stdout",
     "output_type": "stream",
     "text": [
      "27. За все годы больше всего фильмов вышло в 9 месяце\n"
     ]
    }
   ],
   "source": [
    "best_month_for_film = data.groupby('release_month').release_month.count().sort_values(ascending=False).index[0]\n",
    "print(f'27. За все годы больше всего фильмов вышло в {best_month_for_film} месяце')"
   ]
  },
  {
   "cell_type": "code",
   "execution_count": 66,
   "metadata": {},
   "outputs": [],
   "source": [
    "# 4. Сентябрь\n",
    "answer_dict[27] = 4"
   ]
  },
  {
   "cell_type": "markdown",
   "metadata": {},
   "source": [
    "# 28. Сколько суммарно вышло фильмов летом? (за июнь, июль, август)  \n",
    "Варианты ответа:  \n",
    "1. 345  \n",
    "2. 450  \n",
    "3. 478  \n",
    "4. 523  \n",
    "5. 381"
   ]
  },
  {
   "cell_type": "code",
   "execution_count": 67,
   "metadata": {},
   "outputs": [
    {
     "name": "stdout",
     "output_type": "stream",
     "text": [
      "28. Cуммарно летом вышло 450 фильмов\n"
     ]
    }
   ],
   "source": [
    "count_films_summer = data[(data.release_month>=6) & (data.release_month<=8)].release_month.count()\n",
    "print(f'28. Cуммарно летом вышло {count_films_summer} фильмов')"
   ]
  },
  {
   "cell_type": "code",
   "execution_count": 68,
   "metadata": {},
   "outputs": [],
   "source": [
    "# 2. 450\n",
    "answer_dict[28] = 2"
   ]
  },
  {
   "cell_type": "markdown",
   "metadata": {},
   "source": [
    "# 29. Какой режисер выпускает (суммарно по годам) больше всего фильмов зимой?  \n",
    "Варианты ответов:  \n",
    "1. Steven Soderbergh  \n",
    "2. Christopher Nolan  \n",
    "3. Clint Eastwood  \n",
    "4. Ridley Scott  \n",
    "5. Peter Jackson"
   ]
  },
  {
   "cell_type": "code",
   "execution_count": 69,
   "metadata": {},
   "outputs": [],
   "source": [
    "winter_director = Counter()\n",
    "for i in range(len(data)):\n",
    "    if data.iloc[i].release_month in [12, 1, 2]:\n",
    "        for director in data.iloc[i].director_lst:\n",
    "            winter_director[director] += 1"
   ]
  },
  {
   "cell_type": "code",
   "execution_count": 70,
   "metadata": {},
   "outputs": [
    {
     "name": "stdout",
     "output_type": "stream",
     "text": [
      "29. Больше всего фильмов зимой выпускает: Peter Jackson\n"
     ]
    }
   ],
   "source": [
    "print(f'29. Больше всего фильмов зимой выпускает: {winter_director.most_common(1)[0][0]}')"
   ]
  },
  {
   "cell_type": "code",
   "execution_count": 71,
   "metadata": {},
   "outputs": [],
   "source": [
    "# 5. Peter Jackson\n",
    "answer_dict[29] = 5"
   ]
  },
  {
   "cell_type": "markdown",
   "metadata": {},
   "source": [
    "# 30. Какой месяц чаще всего по годам самый прибыльный?  \n",
    "Варианты ответа:  \n",
    "1. Январь  \n",
    "2. Июнь  \n",
    "3. Декабрь  \n",
    "4. Сентябрь  \n",
    "5. Май"
   ]
  },
  {
   "cell_type": "code",
   "execution_count": 72,
   "metadata": {},
   "outputs": [
    {
     "name": "stdout",
     "output_type": "stream",
     "text": [
      "30. Самый прибыльный месяц: 6\n"
     ]
    }
   ],
   "source": [
    "best_month = Counter()\n",
    "years_lst = list(data['release_year'].unique())\n",
    "for year in years_lst:\n",
    "    temp_data = data[data['release_year']==year]\n",
    "    best_month[temp_data.groupby('release_month')['profit'].sum().sort_values(ascending=False).index[0]] += 1\n",
    "                 \n",
    "print(f'30. Самый прибыльный месяц: {best_month.most_common(1)[0][0]}')"
   ]
  },
  {
   "cell_type": "code",
   "execution_count": 73,
   "metadata": {},
   "outputs": [],
   "source": [
    "# 2. Июнь\n",
    "answer_dict[30] = 2"
   ]
  },
  {
   "cell_type": "markdown",
   "metadata": {},
   "source": [
    "# 31. Названия фильмов какой студии в среднем самые длинные по количеству символов?  \n",
    "Варианты ответа:  \n",
    "1. Universal Pictures (Universal)  \n",
    "2. Warner Bros  \n",
    "3. Jim Henson Company, The  \n",
    "4. Paramount Pictures  \n",
    "5. Four By Two Productions"
   ]
  },
  {
   "cell_type": "code",
   "execution_count": 74,
   "metadata": {},
   "outputs": [],
   "source": [
    "# Создадим список из названий студий\n",
    "production_companies_all = []\n",
    "for companies in data.production_companies_lst:\n",
    "    for studio in companies:\n",
    "        production_companies_all.append(studio)\n",
    "        \n",
    "# Создадим датафрейм, где в качестве индексов будут названия компаний, а \n",
    "# в колонках: перечень фильмов, их количество, суммарное число букв,среднее число буcount_word'кв в названии,\n",
    "# с суммарным и средним количеством слов в названии фильмов у каждой киностудии\n",
    "films_of_studios = pd.DataFrame(columns=['films_title','count_films', 'length_all','count_word', 'mean_count_word'],  \n",
    "                                         index=list(pd.Series(production_companies_all).unique()))\n",
    "\n",
    "films_of_studios['films_title'] = ''\n",
    "\n",
    "for i in range(len(data)):\n",
    "    for studio in data.iloc[i].production_companies_lst:\n",
    "        if films_of_studios.loc[studio].films_title == '' :\n",
    "            films_of_studios.loc[studio].films_title = data.iloc[i].original_title\n",
    "            films_of_studios.loc[studio].count_films = 1\n",
    "            films_of_studios.loc[studio].length_all = len(data.iloc[i].original_title)\n",
    "        else:\n",
    "            films_of_studios.loc[studio].films_title += '|'+data.iloc[i].original_title\n",
    "            films_of_studios.loc[studio].count_films += 1\n",
    "            films_of_studios.loc[studio].length_all += len(data.iloc[i].original_title)\n",
    "            \n",
    "films_of_studios['maen_length'] = films_of_studios.length_all/films_of_studios.count_films"
   ]
  },
  {
   "cell_type": "code",
   "execution_count": 75,
   "metadata": {},
   "outputs": [
    {
     "name": "stdout",
     "output_type": "stream",
     "text": [
      "31. Самые длинные по количеству символов в названии фильмы у студии: Index(['Four By Two Productions'], dtype='object')\n"
     ]
    }
   ],
   "source": [
    "print(f'31. Самые длинные по количеству символов в названии фильмы у студии: {films_of_studios[films_of_studios.maen_length==films_of_studios.maen_length.max()].index}')"
   ]
  },
  {
   "cell_type": "code",
   "execution_count": 76,
   "metadata": {},
   "outputs": [],
   "source": [
    "# 5. Four By Two Productions\n",
    "answer_dict[31] = 5"
   ]
  },
  {
   "cell_type": "markdown",
   "metadata": {},
   "source": [
    "# 32. Названия фильмов какой студии в среднем самые длинные по количеству слов?  \n",
    "Варианты ответа:  \n",
    "1. Universal Pictures (Universal)  \n",
    "2. Warner Bros  \n",
    "3. Jim Henson Company, The  \n",
    "4. Paramount Pictures  \n",
    "5. Four By Two Productions"
   ]
  },
  {
   "cell_type": "code",
   "execution_count": 77,
   "metadata": {},
   "outputs": [],
   "source": [
    "# Добавим в датафрейм из задания 31 колонку с суммарным и средним количеством слов \n",
    "# в названии фильмов у каждой киностудии\n",
    "def count_words_all_title(s):\n",
    "    count_word = len(s.replace('|', ' ').split(' '))\n",
    "    return count_word   \n",
    "\n",
    "films_of_studios['count_word'] = films_of_studios.films_title.apply(count_words_all_title)\n",
    "films_of_studios['mean_count_word'] = films_of_studios['count_word'] / films_of_studios['count_films']"
   ]
  },
  {
   "cell_type": "code",
   "execution_count": 78,
   "metadata": {},
   "outputs": [
    {
     "name": "stdout",
     "output_type": "stream",
     "text": [
      "32. В среднем самые длинные по количеству символов в названии фильмы у студии: Index(['Four By Two Productions'], dtype='object')\n"
     ]
    }
   ],
   "source": [
    "print(f'32. В среднем самые длинные по количеству символов в названии фильмы у студии: {films_of_studios[films_of_studios.mean_count_word==films_of_studios.mean_count_word.max()].index}')"
   ]
  },
  {
   "cell_type": "code",
   "execution_count": 79,
   "metadata": {},
   "outputs": [],
   "source": [
    "# 5. Four By Two Productions\n",
    "answer_dict[32] = 5"
   ]
  },
  {
   "cell_type": "markdown",
   "metadata": {},
   "source": [
    "# 33. Сколько разных слов используется в названиях фильмов?(без учета регистра)  \n",
    "Варианты ответа:  \n",
    "1. 6540  \n",
    "2. 1002  \n",
    "3. 2461  \n",
    "4. 28304  \n",
    "5. 3432"
   ]
  },
  {
   "cell_type": "code",
   "execution_count": 80,
   "metadata": {},
   "outputs": [],
   "source": [
    "# Сщздадим множество, в которое включим слова из фильмов (в нажнем регистре)\n",
    "word_films_all = [rec.split() for rec in data['original_title']]\n",
    "\n",
    "words_in_films = set()\n",
    "for i in range(len(word_films_all)):\n",
    "     for word in word_films_all[i]:\n",
    "            words_in_films.add(word.lower())"
   ]
  },
  {
   "cell_type": "code",
   "execution_count": 81,
   "metadata": {},
   "outputs": [
    {
     "name": "stdout",
     "output_type": "stream",
     "text": [
      "33. В названиях фильмов используется 2461 разных слов.\n"
     ]
    }
   ],
   "source": [
    "print(f'33. В названиях фильмов используется {len(words_in_films)} разных слов.')"
   ]
  },
  {
   "cell_type": "code",
   "execution_count": 82,
   "metadata": {},
   "outputs": [],
   "source": [
    "# 3. 2461\n",
    "answer_dict[33] = 3"
   ]
  },
  {
   "cell_type": "markdown",
   "metadata": {},
   "source": [
    "# 34. Какие фильмы входят в 1 процент лучших по рейтингу?  \n",
    "Варианты ответа:  \n",
    "1. Inside Out, Gone Girl, 12 Years a Slave  \n",
    "2. BloodRayne, The Adventures of Rocky & Bullwinkle  \n",
    "3. The Lord of the Rings: The Return of the King  \n",
    "4. 300, Lucky Number Slevin \n",
    "5. Upside Down, 300, Inside Out, The Lord of the Rings: The Return of the King"
   ]
  },
  {
   "cell_type": "code",
   "execution_count": 83,
   "metadata": {},
   "outputs": [],
   "source": [
    "vote_average_best = data['vote_average'].quantile(0.99)\n",
    "\n",
    "one_persent_best = data.loc[data['vote_average']>vote_average_best].original_title"
   ]
  },
  {
   "cell_type": "code",
   "execution_count": 84,
   "metadata": {},
   "outputs": [
    {
     "name": "stdout",
     "output_type": "stream",
     "text": [
      "34. В 1 % лучших по рейтингу входят фильмы:\n",
      " 9                                          Inside Out\n",
      "34                                               Room\n",
      "118                                      Interstellar\n",
      "119                           Guardians of the Galaxy\n",
      "125                                The Imitation Game\n",
      "128                                         Gone Girl\n",
      "138                          The Grand Budapest Hotel\n",
      "370                                         Inception\n",
      "600                                   The Dark Knight\n",
      "873                                       The Pianist\n",
      "1082    The Lord of the Rings: The Return of the King\n",
      "1184                          The Wolf of Wall Street\n",
      "1192                                 12 Years a Slave\n",
      "1801                                          Memento\n",
      "Name: original_title, dtype: object\n"
     ]
    }
   ],
   "source": [
    "print(f'34. В 1 % лучших по рейтингу входят фильмы:\\n {one_persent_best}')"
   ]
  },
  {
   "cell_type": "code",
   "execution_count": 85,
   "metadata": {},
   "outputs": [],
   "source": [
    "# 1. Inside Out, Gone Girl, 12 Years a Slave\n",
    "answer_dict[34] = 1"
   ]
  },
  {
   "cell_type": "markdown",
   "metadata": {},
   "source": [
    "# 35. Какие актеры чаще всего снимаются в одном фильме вместе  \n",
    "Варианты ответа:  \n",
    "1. Johnny Depp & Helena Bonham Carter  \n",
    "2. Hugh Jackman & Ian McKellen  \n",
    "3. Vin Diesel & Paul Walker  \n",
    "4. Adam Sandler & Kevin James  \n",
    "5. Daniel Radcliffe & Rupert Grint"
   ]
  },
  {
   "cell_type": "code",
   "execution_count": 86,
   "metadata": {},
   "outputs": [
    {
     "data": {
      "text/plain": [
       "[(('Daniel Radcliffe', 'Rupert Grint'), 8)]"
      ]
     },
     "execution_count": 86,
     "metadata": {},
     "output_type": "execute_result"
    }
   ],
   "source": [
    "actor_and_actor = Counter()\n",
    "for i in range(len(data)):\n",
    "    temp_list = data.iloc[i]['cast'].split('|')\n",
    "    for actor_one in temp_list:\n",
    "        new_list = temp_list.copy()\n",
    "        new_list.remove(actor_one)\n",
    "        for actor_two in new_list:\n",
    "            actor_and_actor[(actor_one, actor_two)] += 1\n",
    "\n",
    "actor_and_actor.most_common(1)"
   ]
  },
  {
   "cell_type": "code",
   "execution_count": 87,
   "metadata": {},
   "outputs": [],
   "source": [
    "# 5. Daniel Radcliffe & Rupert Grint\n",
    "answer_dict[35] = 5"
   ]
  },
  {
   "cell_type": "markdown",
   "metadata": {},
   "source": [
    "# 36. У какого из режиссеров самый высокий процент фильмов со сборами выше бюджета?\n",
    "Варианты ответа:  \n",
    "1. Quentin Tarantino  \n",
    "2. Steven Soderbergh  \n",
    "3. Robert Rodriguez  \n",
    "4. Christopher Nolan  \n",
    "5. Clint Eastwood"
   ]
  },
  {
   "cell_type": "code",
   "execution_count": 88,
   "metadata": {},
   "outputs": [],
   "source": [
    "# Создадим датафрейм, где в качестве индексов будут фамилии режиссеров, а \n",
    "# в колонках: количество прибыльных фильмов, число снятых картин, \n",
    "# процент фильмов со сборами выше бюджета\n",
    "# Воспользуемся списком всех режиссеров из задания 13\n",
    "directors_info = pd.DataFrame(columns=['count_films','count_films_profit'],  \n",
    "                                         index=list(pd.Series(director_all).unique()))\n",
    "directors_info['count_films'] = 0\n",
    "directors_info['count_films_profit'] = 0\n",
    "for i in range(len(data)):\n",
    "    temp_list = data.iloc[i]['director'].split('|')\n",
    "    for director in temp_list:\n",
    "        directors_info.loc[director]['count_films'] += 1\n",
    "        if data.iloc[i]['profit'] > 0:\n",
    "            directors_info.loc[director]['count_films_profit'] += 1\n",
    "\n",
    "directors_info['persent_profit'] = directors_info['count_films_profit'] / directors_info['count_films']"
   ]
  },
  {
   "cell_type": "code",
   "execution_count": 89,
   "metadata": {},
   "outputs": [
    {
     "name": "stdout",
     "output_type": "stream",
     "text": [
      "У 624 режиссеров самый высокий процент фильмов со сборами выше бюджета\n"
     ]
    }
   ],
   "source": [
    "# оказалось таких режиссеров много\n",
    "count_best_director = len(directors_info[directors_info['persent_profit'] == directors_info['persent_profit'].max()])\n",
    "print(f'У {count_best_director} режиссеров самый высокий процент фильмов со сборами выше бюджета')"
   ]
  },
  {
   "cell_type": "code",
   "execution_count": 90,
   "metadata": {},
   "outputs": [
    {
     "data": {
      "text/html": [
       "<div>\n",
       "<style scoped>\n",
       "    .dataframe tbody tr th:only-of-type {\n",
       "        vertical-align: middle;\n",
       "    }\n",
       "\n",
       "    .dataframe tbody tr th {\n",
       "        vertical-align: top;\n",
       "    }\n",
       "\n",
       "    .dataframe thead th {\n",
       "        text-align: right;\n",
       "    }\n",
       "</style>\n",
       "<table border=\"1\" class=\"dataframe\">\n",
       "  <thead>\n",
       "    <tr style=\"text-align: right;\">\n",
       "      <th></th>\n",
       "      <th>count_films</th>\n",
       "      <th>count_films_profit</th>\n",
       "      <th>persent_profit</th>\n",
       "    </tr>\n",
       "  </thead>\n",
       "  <tbody>\n",
       "    <tr>\n",
       "      <td>Ridley Scott</td>\n",
       "      <td>12</td>\n",
       "      <td>12</td>\n",
       "      <td>1.0</td>\n",
       "    </tr>\n",
       "  </tbody>\n",
       "</table>\n",
       "</div>"
      ],
      "text/plain": [
       "              count_films  count_films_profit  persent_profit\n",
       "Ridley Scott           12                  12             1.0"
      ]
     },
     "execution_count": 90,
     "metadata": {},
     "output_type": "execute_result"
    }
   ],
   "source": [
    "# можно предположить, что лучший из них тот, у кого больше снятых картин\n",
    "best_of_best = directors_info[directors_info['persent_profit'] == directors_info['persent_profit'].max()]\n",
    "best_of_best[best_of_best['count_films_profit'] == best_of_best['count_films_profit'].max() ]\n"
   ]
  },
  {
   "cell_type": "code",
   "execution_count": 91,
   "metadata": {},
   "outputs": [
    {
     "name": "stdout",
     "output_type": "stream",
     "text": [
      "Quentin Tarantino:  False\n",
      "Steven Soderbergh:  False\n",
      "Robert Rodriguez:  False\n",
      "Christopher Nolan:  True\n",
      "Clint Eastwood:  False\n"
     ]
    }
   ],
   "source": [
    "# Среди правильных ответов нет варианта Ridley Scott\n",
    "# Проверим предложенных в ответах режиссеров на попадание в \n",
    "# список \"режиссер с самым высокийм процентов фильмов со сборами выше бюджета\"\n",
    "print('Quentin Tarantino: ', 'Quentin Tarantino' in best_of_best.index)\n",
    "print('Steven Soderbergh: ', 'Steven Soderbergh' in best_of_best.index)\n",
    "print('Robert Rodriguez: ', 'Robert Rodriguez' in best_of_best.index)\n",
    "print('Christopher Nolan: ', 'Christopher Nolan' in best_of_best.index)\n",
    "print('Clint Eastwood: ', 'Clint Eastwood' in best_of_best.index)"
   ]
  },
  {
   "cell_type": "code",
   "execution_count": 92,
   "metadata": {},
   "outputs": [],
   "source": [
    "# 4. Christopher Nolan\n",
    "answer_dict[36] = 4"
   ]
  },
  {
   "cell_type": "markdown",
   "metadata": {},
   "source": [
    "# Submission"
   ]
  },
  {
   "cell_type": "code",
   "execution_count": 93,
   "metadata": {},
   "outputs": [
    {
     "data": {
      "text/html": [
       "<div>\n",
       "<style scoped>\n",
       "    .dataframe tbody tr th:only-of-type {\n",
       "        vertical-align: middle;\n",
       "    }\n",
       "\n",
       "    .dataframe tbody tr th {\n",
       "        vertical-align: top;\n",
       "    }\n",
       "\n",
       "    .dataframe thead th {\n",
       "        text-align: right;\n",
       "    }\n",
       "</style>\n",
       "<table border=\"1\" class=\"dataframe\">\n",
       "  <thead>\n",
       "    <tr style=\"text-align: right;\">\n",
       "      <th></th>\n",
       "      <th>Id</th>\n",
       "      <th>Answer</th>\n",
       "    </tr>\n",
       "  </thead>\n",
       "  <tbody>\n",
       "    <tr>\n",
       "      <td>0</td>\n",
       "      <td>1</td>\n",
       "      <td>4</td>\n",
       "    </tr>\n",
       "    <tr>\n",
       "      <td>1</td>\n",
       "      <td>2</td>\n",
       "      <td>2</td>\n",
       "    </tr>\n",
       "    <tr>\n",
       "      <td>2</td>\n",
       "      <td>3</td>\n",
       "      <td>3</td>\n",
       "    </tr>\n",
       "    <tr>\n",
       "      <td>3</td>\n",
       "      <td>4</td>\n",
       "      <td>2</td>\n",
       "    </tr>\n",
       "    <tr>\n",
       "      <td>4</td>\n",
       "      <td>5</td>\n",
       "      <td>1</td>\n",
       "    </tr>\n",
       "    <tr>\n",
       "      <td>5</td>\n",
       "      <td>6</td>\n",
       "      <td>5</td>\n",
       "    </tr>\n",
       "    <tr>\n",
       "      <td>6</td>\n",
       "      <td>7</td>\n",
       "      <td>2</td>\n",
       "    </tr>\n",
       "    <tr>\n",
       "      <td>7</td>\n",
       "      <td>8</td>\n",
       "      <td>1</td>\n",
       "    </tr>\n",
       "    <tr>\n",
       "      <td>8</td>\n",
       "      <td>9</td>\n",
       "      <td>4</td>\n",
       "    </tr>\n",
       "    <tr>\n",
       "      <td>9</td>\n",
       "      <td>10</td>\n",
       "      <td>5</td>\n",
       "    </tr>\n",
       "    <tr>\n",
       "      <td>10</td>\n",
       "      <td>11</td>\n",
       "      <td>3</td>\n",
       "    </tr>\n",
       "    <tr>\n",
       "      <td>11</td>\n",
       "      <td>12</td>\n",
       "      <td>3</td>\n",
       "    </tr>\n",
       "    <tr>\n",
       "      <td>12</td>\n",
       "      <td>13</td>\n",
       "      <td>3</td>\n",
       "    </tr>\n",
       "    <tr>\n",
       "      <td>13</td>\n",
       "      <td>14</td>\n",
       "      <td>2</td>\n",
       "    </tr>\n",
       "    <tr>\n",
       "      <td>14</td>\n",
       "      <td>15</td>\n",
       "      <td>5</td>\n",
       "    </tr>\n",
       "    <tr>\n",
       "      <td>15</td>\n",
       "      <td>16</td>\n",
       "      <td>1</td>\n",
       "    </tr>\n",
       "    <tr>\n",
       "      <td>16</td>\n",
       "      <td>17</td>\n",
       "      <td>3</td>\n",
       "    </tr>\n",
       "    <tr>\n",
       "      <td>17</td>\n",
       "      <td>18</td>\n",
       "      <td>3</td>\n",
       "    </tr>\n",
       "    <tr>\n",
       "      <td>18</td>\n",
       "      <td>19</td>\n",
       "      <td>2</td>\n",
       "    </tr>\n",
       "    <tr>\n",
       "      <td>19</td>\n",
       "      <td>20</td>\n",
       "      <td>1</td>\n",
       "    </tr>\n",
       "    <tr>\n",
       "      <td>20</td>\n",
       "      <td>21</td>\n",
       "      <td>4</td>\n",
       "    </tr>\n",
       "    <tr>\n",
       "      <td>21</td>\n",
       "      <td>22</td>\n",
       "      <td>2</td>\n",
       "    </tr>\n",
       "    <tr>\n",
       "      <td>22</td>\n",
       "      <td>23</td>\n",
       "      <td>3</td>\n",
       "    </tr>\n",
       "    <tr>\n",
       "      <td>23</td>\n",
       "      <td>24</td>\n",
       "      <td>1</td>\n",
       "    </tr>\n",
       "    <tr>\n",
       "      <td>24</td>\n",
       "      <td>25</td>\n",
       "      <td>5</td>\n",
       "    </tr>\n",
       "    <tr>\n",
       "      <td>25</td>\n",
       "      <td>26</td>\n",
       "      <td>1</td>\n",
       "    </tr>\n",
       "    <tr>\n",
       "      <td>26</td>\n",
       "      <td>27</td>\n",
       "      <td>4</td>\n",
       "    </tr>\n",
       "    <tr>\n",
       "      <td>27</td>\n",
       "      <td>28</td>\n",
       "      <td>2</td>\n",
       "    </tr>\n",
       "    <tr>\n",
       "      <td>28</td>\n",
       "      <td>29</td>\n",
       "      <td>5</td>\n",
       "    </tr>\n",
       "    <tr>\n",
       "      <td>29</td>\n",
       "      <td>30</td>\n",
       "      <td>2</td>\n",
       "    </tr>\n",
       "    <tr>\n",
       "      <td>30</td>\n",
       "      <td>31</td>\n",
       "      <td>5</td>\n",
       "    </tr>\n",
       "    <tr>\n",
       "      <td>31</td>\n",
       "      <td>32</td>\n",
       "      <td>5</td>\n",
       "    </tr>\n",
       "    <tr>\n",
       "      <td>32</td>\n",
       "      <td>33</td>\n",
       "      <td>3</td>\n",
       "    </tr>\n",
       "    <tr>\n",
       "      <td>33</td>\n",
       "      <td>34</td>\n",
       "      <td>1</td>\n",
       "    </tr>\n",
       "    <tr>\n",
       "      <td>34</td>\n",
       "      <td>35</td>\n",
       "      <td>5</td>\n",
       "    </tr>\n",
       "    <tr>\n",
       "      <td>35</td>\n",
       "      <td>36</td>\n",
       "      <td>4</td>\n",
       "    </tr>\n",
       "  </tbody>\n",
       "</table>\n",
       "</div>"
      ],
      "text/plain": [
       "    Id  Answer\n",
       "0    1       4\n",
       "1    2       2\n",
       "2    3       3\n",
       "3    4       2\n",
       "4    5       1\n",
       "5    6       5\n",
       "6    7       2\n",
       "7    8       1\n",
       "8    9       4\n",
       "9   10       5\n",
       "10  11       3\n",
       "11  12       3\n",
       "12  13       3\n",
       "13  14       2\n",
       "14  15       5\n",
       "15  16       1\n",
       "16  17       3\n",
       "17  18       3\n",
       "18  19       2\n",
       "19  20       1\n",
       "20  21       4\n",
       "21  22       2\n",
       "22  23       3\n",
       "23  24       1\n",
       "24  25       5\n",
       "25  26       1\n",
       "26  27       4\n",
       "27  28       2\n",
       "28  29       5\n",
       "29  30       2\n",
       "30  31       5\n",
       "31  32       5\n",
       "32  33       3\n",
       "33  34       1\n",
       "34  35       5\n",
       "35  36       4"
      ]
     },
     "execution_count": 93,
     "metadata": {},
     "output_type": "execute_result"
    }
   ],
   "source": [
    "answer = pd.DataFrame({'Id': list(answer_dict.keys()), 'Answer': list(answer_dict.values())}, columns=['Id', 'Answer'])\n",
    "answer.sort_values(by='Id')\n",
    "answer"
   ]
  },
  {
   "cell_type": "code",
   "execution_count": null,
   "metadata": {},
   "outputs": [],
   "source": []
  }
 ],
 "metadata": {
  "kernelspec": {
   "display_name": "Python 3",
   "language": "python",
   "name": "python3"
  },
  "language_info": {
   "codemirror_mode": {
    "name": "ipython",
    "version": 3
   },
   "file_extension": ".py",
   "mimetype": "text/x-python",
   "name": "python",
   "nbconvert_exporter": "python",
   "pygments_lexer": "ipython3",
   "version": "3.7.4"
  }
 },
 "nbformat": 4,
 "nbformat_minor": 4
}
